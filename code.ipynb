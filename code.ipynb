{
 "cells": [
  {
   "cell_type": "markdown",
   "id": "5eb6bd4e-a18d-45fa-80c2-5e17266179b7",
   "metadata": {},
   "source": [
    "# ENV"
   ]
  },
  {
   "cell_type": "code",
   "execution_count": 1,
   "id": "0b024259-c61b-4106-a4ba-3eea130b39d3",
   "metadata": {},
   "outputs": [],
   "source": [
    "import os\n",
    "import glob\n",
    "import platform\n",
    "import numpy as np\n",
    "import pandas as pd\n",
    "import random\n",
    "import matplotlib.pyplot as plt\n",
    "from PIL import Image\n",
    "import seaborn as sns\n",
    "\n",
    "import torch\n",
    "import torchvision\n",
    "import torch.nn as nn\n",
    "import torch.optim as optim\n",
    "import torch.nn.functional as F\n",
    "from torchvision import transforms, utils\n",
    "from torchvision.transforms import Resize, ToTensor, Normalize\n",
    "from torch.utils.data import Dataset, DataLoader, random_split, SubsetRandomSampler, WeightedRandomSampler"
   ]
  },
  {
   "cell_type": "code",
   "execution_count": 2,
   "id": "aff1cd7b-a40c-4fe3-affd-d83662ae7f4c",
   "metadata": {},
   "outputs": [
    {
     "name": "stdout",
     "output_type": "stream",
     "text": [
      "Current OS: Linux\n",
      "CUDA: True\n",
      "Tesla V100-PCIE-32GB\n",
      "Python Version: 3.8.5\n",
      "torch Version: 1.7.1\n",
      "torchvision Version: 0.8.2\n"
     ]
    }
   ],
   "source": [
    "# 현재 OS 및 라이브러리 버전 체크 체크\n",
    "\n",
    "current_os = platform.system()\n",
    "print(f\"Current OS: {current_os}\")\n",
    "\n",
    "device = torch.device('cuda' if torch.cuda.is_available() else 'cpu')\n",
    "print(f\"CUDA: {torch.cuda.is_available()}\")\n",
    "print(torch.cuda.get_device_name(torch.cuda.current_device()))\n",
    "\n",
    "print(f\"Python Version: {platform.python_version()}\")\n",
    "print(f\"torch Version: {torch.__version__}\")\n",
    "print(f\"torchvision Version: {torchvision.__version__}\")\n"
   ]
  },
  {
   "cell_type": "code",
   "execution_count": 3,
   "id": "80a5fb06-18a1-40d5-a593-33d517ca28d4",
   "metadata": {},
   "outputs": [],
   "source": [
    "def seed_everything(seed):\n",
    "    torch.manual_seed(seed)\n",
    "    torch.cuda.manual_seed(seed)\n",
    "    torch.cuda.manual_seed_all(seed)    # if use multi-GPU\n",
    "    torch.backends.cudnn.deterministic = True\n",
    "    torch.backends.cudnn.benchmark = False\n",
    "    np.random.seed(seed)\n",
    "    random.seed(seed)\n",
    "seed_everything(42)"
   ]
  },
  {
   "cell_type": "code",
   "execution_count": 4,
   "id": "93c407de-b404-4784-9ad3-18f799046509",
   "metadata": {},
   "outputs": [],
   "source": [
    "train_path = '../input/data/train'\n",
    "train_image_path = os.path.join(train_path, 'images')"
   ]
  },
  {
   "cell_type": "markdown",
   "id": "7c211aa2-ce03-4744-8676-e2c11756601c",
   "metadata": {},
   "source": [
    "# 모든 train data path 가져와 라벨링"
   ]
  },
  {
   "cell_type": "code",
   "execution_count": 5,
   "id": "d7d20154-0650-43a9-8c51-a23d917c8204",
   "metadata": {},
   "outputs": [],
   "source": [
    "all_path = glob.glob(train_image_path + '/*/*')"
   ]
  },
  {
   "cell_type": "code",
   "execution_count": 6,
   "id": "720130bb-9785-4473-b811-5777539d5189",
   "metadata": {},
   "outputs": [
    {
     "name": "stdout",
     "output_type": "stream",
     "text": [
      "2700명 * 이미지 7장 = 18900\n"
     ]
    },
    {
     "data": {
      "text/plain": [
       "['../input/data/train/images/005556_male_Asian_50/mask2.jpg',\n",
       " '../input/data/train/images/005556_male_Asian_50/incorrect_mask.jpg',\n",
       " '../input/data/train/images/005556_male_Asian_50/mask3.jpg',\n",
       " '../input/data/train/images/005556_male_Asian_50/normal.jpg',\n",
       " '../input/data/train/images/005556_male_Asian_50/mask1.jpg',\n",
       " '../input/data/train/images/005556_male_Asian_50/mask4.jpg',\n",
       " '../input/data/train/images/005556_male_Asian_50/mask5.jpg',\n",
       " '../input/data/train/images/006566_female_Asian_19/mask2.jpg',\n",
       " '../input/data/train/images/006566_female_Asian_19/incorrect_mask.jpg',\n",
       " '../input/data/train/images/006566_female_Asian_19/mask3.jpg']"
      ]
     },
     "execution_count": 6,
     "metadata": {},
     "output_type": "execute_result"
    }
   ],
   "source": [
    "print('2700명 * 이미지 7장 =', len(all_path))\n",
    "all_path[:10]"
   ]
  },
  {
   "cell_type": "code",
   "execution_count": 7,
   "id": "d2bf0745-a98a-4243-aad6-3becf810367c",
   "metadata": {},
   "outputs": [
    {
     "name": "stdout",
     "output_type": "stream",
     "text": [
      "['.jpg', '.png', '.jpeg']\n"
     ]
    }
   ],
   "source": [
    "# 파일 확장자 종류 확인\n",
    "exts = []\n",
    "for i in all_path:\n",
    "    ext = os.path.splitext(i)[-1]\n",
    "    if ext not in exts:\n",
    "        exts.append(ext)\n",
    "print(exts)"
   ]
  },
  {
   "cell_type": "code",
   "execution_count": 8,
   "id": "ee8517fd-cede-44b1-aa8e-04536abc29a5",
   "metadata": {},
   "outputs": [],
   "source": [
    "all_path.sort()\n",
    "# all_path"
   ]
  },
  {
   "cell_type": "code",
   "execution_count": 9,
   "id": "2d30c8df-c8cb-4631-bdec-0a4eba041048",
   "metadata": {},
   "outputs": [],
   "source": [
    "# mislabel\n",
    "mask_ids = ['000020', '004418', '005227']\n",
    "gender_ids = ['001498-1', '004432', '006359', '006360', '006361', '006362', '006363', '006364']\n",
    "\n",
    "# 라벨링 함수\n",
    "def labeling(path):\n",
    "    label = 0\n",
    "    info, mask = path.split('/')[-2:]\n",
    "    info_lst = info.split('_')\n",
    "    id, gender, age = info_lst[0], info_lst[1], int(info_lst[-1])\n",
    "    if mask.startswith('incorrect'):\n",
    "        if id in mask_ids:\n",
    "            label += 12\n",
    "        else: \n",
    "            label += 6\n",
    "    elif mask.startswith('normal'):\n",
    "        if id in mask_ids:\n",
    "            label += 6\n",
    "        else:\n",
    "            label += 12\n",
    "    if  gender == 'female':\n",
    "        if id in gender_ids:\n",
    "            pass\n",
    "        else:\n",
    "            label += 3\n",
    "    else:\n",
    "        if id in gender_ids:\n",
    "            label += 3\n",
    "    if 30<=age < 58: ###\n",
    "        label += 1\n",
    "    elif age >= 58: ###\n",
    "        label += 2\n",
    "    return label"
   ]
  },
  {
   "cell_type": "code",
   "execution_count": 10,
   "id": "99f5c155-3ed7-4031-ba65-1cce3be94064",
   "metadata": {},
   "outputs": [],
   "source": [
    "def person(path):\n",
    "    info = path.split('/')[-2]\n",
    "    id = info.split('_')[0]\n",
    "    return id"
   ]
  },
  {
   "cell_type": "code",
   "execution_count": 11,
   "id": "d29387b0-65e1-455b-a7f4-f6d2403c147b",
   "metadata": {},
   "outputs": [
    {
     "data": {
      "text/html": [
       "<div>\n",
       "<style scoped>\n",
       "    .dataframe tbody tr th:only-of-type {\n",
       "        vertical-align: middle;\n",
       "    }\n",
       "\n",
       "    .dataframe tbody tr th {\n",
       "        vertical-align: top;\n",
       "    }\n",
       "\n",
       "    .dataframe thead th {\n",
       "        text-align: right;\n",
       "    }\n",
       "</style>\n",
       "<table border=\"1\" class=\"dataframe\">\n",
       "  <thead>\n",
       "    <tr style=\"text-align: right;\">\n",
       "      <th></th>\n",
       "      <th>path</th>\n",
       "      <th>label</th>\n",
       "      <th>id</th>\n",
       "    </tr>\n",
       "  </thead>\n",
       "  <tbody>\n",
       "    <tr>\n",
       "      <th>0</th>\n",
       "      <td>../input/data/train/images/000001_female_Asian...</td>\n",
       "      <td>10</td>\n",
       "      <td>000001</td>\n",
       "    </tr>\n",
       "    <tr>\n",
       "      <th>1</th>\n",
       "      <td>../input/data/train/images/000001_female_Asian...</td>\n",
       "      <td>4</td>\n",
       "      <td>000001</td>\n",
       "    </tr>\n",
       "    <tr>\n",
       "      <th>2</th>\n",
       "      <td>../input/data/train/images/000001_female_Asian...</td>\n",
       "      <td>4</td>\n",
       "      <td>000001</td>\n",
       "    </tr>\n",
       "    <tr>\n",
       "      <th>3</th>\n",
       "      <td>../input/data/train/images/000001_female_Asian...</td>\n",
       "      <td>4</td>\n",
       "      <td>000001</td>\n",
       "    </tr>\n",
       "    <tr>\n",
       "      <th>4</th>\n",
       "      <td>../input/data/train/images/000001_female_Asian...</td>\n",
       "      <td>4</td>\n",
       "      <td>000001</td>\n",
       "    </tr>\n",
       "    <tr>\n",
       "      <th>...</th>\n",
       "      <td>...</td>\n",
       "      <td>...</td>\n",
       "      <td>...</td>\n",
       "    </tr>\n",
       "    <tr>\n",
       "      <th>18895</th>\n",
       "      <td>../input/data/train/images/006959_male_Asian_1...</td>\n",
       "      <td>0</td>\n",
       "      <td>006959</td>\n",
       "    </tr>\n",
       "    <tr>\n",
       "      <th>18896</th>\n",
       "      <td>../input/data/train/images/006959_male_Asian_1...</td>\n",
       "      <td>0</td>\n",
       "      <td>006959</td>\n",
       "    </tr>\n",
       "    <tr>\n",
       "      <th>18897</th>\n",
       "      <td>../input/data/train/images/006959_male_Asian_1...</td>\n",
       "      <td>0</td>\n",
       "      <td>006959</td>\n",
       "    </tr>\n",
       "    <tr>\n",
       "      <th>18898</th>\n",
       "      <td>../input/data/train/images/006959_male_Asian_1...</td>\n",
       "      <td>0</td>\n",
       "      <td>006959</td>\n",
       "    </tr>\n",
       "    <tr>\n",
       "      <th>18899</th>\n",
       "      <td>../input/data/train/images/006959_male_Asian_1...</td>\n",
       "      <td>12</td>\n",
       "      <td>006959</td>\n",
       "    </tr>\n",
       "  </tbody>\n",
       "</table>\n",
       "<p>18900 rows × 3 columns</p>\n",
       "</div>"
      ],
      "text/plain": [
       "                                                    path  label      id\n",
       "0      ../input/data/train/images/000001_female_Asian...     10  000001\n",
       "1      ../input/data/train/images/000001_female_Asian...      4  000001\n",
       "2      ../input/data/train/images/000001_female_Asian...      4  000001\n",
       "3      ../input/data/train/images/000001_female_Asian...      4  000001\n",
       "4      ../input/data/train/images/000001_female_Asian...      4  000001\n",
       "...                                                  ...    ...     ...\n",
       "18895  ../input/data/train/images/006959_male_Asian_1...      0  006959\n",
       "18896  ../input/data/train/images/006959_male_Asian_1...      0  006959\n",
       "18897  ../input/data/train/images/006959_male_Asian_1...      0  006959\n",
       "18898  ../input/data/train/images/006959_male_Asian_1...      0  006959\n",
       "18899  ../input/data/train/images/006959_male_Asian_1...     12  006959\n",
       "\n",
       "[18900 rows x 3 columns]"
      ]
     },
     "execution_count": 11,
     "metadata": {},
     "output_type": "execute_result"
    }
   ],
   "source": [
    "train_path_label_df = pd.DataFrame(all_path, columns=['path'])\n",
    "train_path_label_df['label'] = train_path_label_df['path'].map(lambda x: labeling(x))\n",
    "train_path_label_df['id'] = train_path_label_df['path'].map(lambda x: person(x))\n",
    "\n",
    "train_path_label_df"
   ]
  },
  {
   "cell_type": "code",
   "execution_count": 13,
   "id": "1229d499-e9b2-4207-a316-3fc26f66db15",
   "metadata": {},
   "outputs": [
    {
     "data": {
      "text/plain": [
       "<matplotlib.axes._subplots.AxesSubplot at 0x7efcd978c580>"
      ]
     },
     "execution_count": 13,
     "metadata": {},
     "output_type": "execute_result"
    },
    {
     "data": {
      "image/png": "[encoded data removed]",
      "text/plain": [
       "<Figure size 1080x504 with 1 Axes>"
      ]
     },
     "metadata": {
      "needs_background": "light"
     },
     "output_type": "display_data"
    }
   ],
   "source": [
    "fig, ax = plt.subplots(1, 1, figsize=(15, 7))\n",
    "sns.countplot(x='label', data=train_path_label_df, ax=ax)"
   ]
  },
  {
   "cell_type": "markdown",
   "id": "36912ca3-0c54-461d-b6fa-f03965dc7982",
   "metadata": {},
   "source": [
    "# CustomDataset 만들기"
   ]
  },
  {
   "cell_type": "code",
   "execution_count": 14,
   "id": "7ef4cbc8-f0ca-4396-9d46-f101c8900958",
   "metadata": {},
   "outputs": [],
   "source": [
    "class MyDataset(Dataset):\n",
    "    def __init__(self, img_path_label, transform):\n",
    "        self.X = img_path_label['path']\n",
    "        self.y = img_path_label['label']\n",
    "        self.transform = transform\n",
    "        \n",
    "            \n",
    "    def __getitem__(self, idx):\n",
    "        image = Image.open(self.X.iloc[idx])\n",
    "        label = self.y.iloc[idx]\n",
    "        \n",
    "        if self.transform:\n",
    "            image = self.transform(image)\n",
    "        return image, torch.tensor(label)\n",
    "    \n",
    "    def __len__(self):\n",
    "        return len(self.X)"
   ]
  },
  {
   "cell_type": "code",
   "execution_count": 15,
   "id": "63681cf8-ce17-4075-b33a-a210cb9fc047",
   "metadata": {},
   "outputs": [],
   "source": [
    "transform = transforms.Compose([Resize((512, 384), Image.BILINEAR),\n",
    "                               ToTensor(),\n",
    "                               Normalize(mean=(0.5, 0.5, 0.5), std=(0.2, 0.2, 0.2))\n",
    "                              ])"
   ]
  },
  {
   "cell_type": "markdown",
   "id": "eee7eabf-629f-427d-8154-4103b3b112a8",
   "metadata": {},
   "source": [
    "## train test split \n",
    "(같은 사람 이미지가 train과 test에 동시에 들어가지 않도록, id를 기준으로 8:2 구분 후 mask 정보 추가)"
   ]
  },
  {
   "cell_type": "code",
   "execution_count": 16,
   "id": "df2cef22-a0a9-4df1-90ff-7e5aee3020a2",
   "metadata": {},
   "outputs": [
    {
     "data": {
      "text/html": [
       "<div>\n",
       "<style scoped>\n",
       "    .dataframe tbody tr th:only-of-type {\n",
       "        vertical-align: middle;\n",
       "    }\n",
       "\n",
       "    .dataframe tbody tr th {\n",
       "        vertical-align: top;\n",
       "    }\n",
       "\n",
       "    .dataframe thead th {\n",
       "        text-align: right;\n",
       "    }\n",
       "</style>\n",
       "<table border=\"1\" class=\"dataframe\">\n",
       "  <thead>\n",
       "    <tr style=\"text-align: right;\">\n",
       "      <th></th>\n",
       "      <th>id</th>\n",
       "      <th>gender</th>\n",
       "      <th>race</th>\n",
       "      <th>age</th>\n",
       "      <th>path</th>\n",
       "    </tr>\n",
       "  </thead>\n",
       "  <tbody>\n",
       "    <tr>\n",
       "      <th>0</th>\n",
       "      <td>000001</td>\n",
       "      <td>1</td>\n",
       "      <td>Asian</td>\n",
       "      <td>1</td>\n",
       "      <td>000001_female_Asian_45</td>\n",
       "    </tr>\n",
       "    <tr>\n",
       "      <th>1</th>\n",
       "      <td>000002</td>\n",
       "      <td>1</td>\n",
       "      <td>Asian</td>\n",
       "      <td>1</td>\n",
       "      <td>000002_female_Asian_52</td>\n",
       "    </tr>\n",
       "    <tr>\n",
       "      <th>2</th>\n",
       "      <td>000004</td>\n",
       "      <td>0</td>\n",
       "      <td>Asian</td>\n",
       "      <td>1</td>\n",
       "      <td>000004_male_Asian_54</td>\n",
       "    </tr>\n",
       "    <tr>\n",
       "      <th>3</th>\n",
       "      <td>000005</td>\n",
       "      <td>1</td>\n",
       "      <td>Asian</td>\n",
       "      <td>2</td>\n",
       "      <td>000005_female_Asian_58</td>\n",
       "    </tr>\n",
       "    <tr>\n",
       "      <th>4</th>\n",
       "      <td>000006</td>\n",
       "      <td>1</td>\n",
       "      <td>Asian</td>\n",
       "      <td>2</td>\n",
       "      <td>000006_female_Asian_59</td>\n",
       "    </tr>\n",
       "    <tr>\n",
       "      <th>...</th>\n",
       "      <td>...</td>\n",
       "      <td>...</td>\n",
       "      <td>...</td>\n",
       "      <td>...</td>\n",
       "      <td>...</td>\n",
       "    </tr>\n",
       "    <tr>\n",
       "      <th>2695</th>\n",
       "      <td>006954</td>\n",
       "      <td>0</td>\n",
       "      <td>Asian</td>\n",
       "      <td>0</td>\n",
       "      <td>006954_male_Asian_19</td>\n",
       "    </tr>\n",
       "    <tr>\n",
       "      <th>2696</th>\n",
       "      <td>006955</td>\n",
       "      <td>0</td>\n",
       "      <td>Asian</td>\n",
       "      <td>0</td>\n",
       "      <td>006955_male_Asian_19</td>\n",
       "    </tr>\n",
       "    <tr>\n",
       "      <th>2697</th>\n",
       "      <td>006956</td>\n",
       "      <td>0</td>\n",
       "      <td>Asian</td>\n",
       "      <td>0</td>\n",
       "      <td>006956_male_Asian_19</td>\n",
       "    </tr>\n",
       "    <tr>\n",
       "      <th>2698</th>\n",
       "      <td>006957</td>\n",
       "      <td>0</td>\n",
       "      <td>Asian</td>\n",
       "      <td>0</td>\n",
       "      <td>006957_male_Asian_20</td>\n",
       "    </tr>\n",
       "    <tr>\n",
       "      <th>2699</th>\n",
       "      <td>006959</td>\n",
       "      <td>0</td>\n",
       "      <td>Asian</td>\n",
       "      <td>0</td>\n",
       "      <td>006959_male_Asian_19</td>\n",
       "    </tr>\n",
       "  </tbody>\n",
       "</table>\n",
       "<p>2700 rows × 5 columns</p>\n",
       "</div>"
      ],
      "text/plain": [
       "          id  gender   race  age                    path\n",
       "0     000001       1  Asian    1  000001_female_Asian_45\n",
       "1     000002       1  Asian    1  000002_female_Asian_52\n",
       "2     000004       0  Asian    1    000004_male_Asian_54\n",
       "3     000005       1  Asian    2  000005_female_Asian_58\n",
       "4     000006       1  Asian    2  000006_female_Asian_59\n",
       "...      ...     ...    ...  ...                     ...\n",
       "2695  006954       0  Asian    0    006954_male_Asian_19\n",
       "2696  006955       0  Asian    0    006955_male_Asian_19\n",
       "2697  006956       0  Asian    0    006956_male_Asian_19\n",
       "2698  006957       0  Asian    0    006957_male_Asian_20\n",
       "2699  006959       0  Asian    0    006959_male_Asian_19\n",
       "\n",
       "[2700 rows x 5 columns]"
      ]
     },
     "execution_count": 16,
     "metadata": {},
     "output_type": "execute_result"
    }
   ],
   "source": [
    "def age(x):\n",
    "    if x < 30:\n",
    "        return 0\n",
    "    elif x < 58: ###\n",
    "        return 1\n",
    "    else:\n",
    "        return 2\n",
    "\n",
    "train_df = pd.read_csv('../input/data/train/train.csv')\n",
    "train_df.gender.replace({'male':0, 'female':1}, inplace=True)\n",
    "train_df.age = train_df.age.apply(lambda x: age(x))\n",
    "train_df"
   ]
  },
  {
   "cell_type": "code",
   "execution_count": 17,
   "id": "a9c169eb-adcf-45d8-84ec-ac561b2ec8b4",
   "metadata": {},
   "outputs": [
    {
     "data": {
      "image/png": "[encoded data removed]",
      "text/plain": [
       "<Figure size 1080x504 with 2 Axes>"
      ]
     },
     "metadata": {
      "needs_background": "light"
     },
     "output_type": "display_data"
    }
   ],
   "source": [
    "# 성별, 나이에 따른 성별 분포 시각화\n",
    "\n",
    "fig, axes = plt.subplots(1, 2, figsize=(15, 7))\n",
    "ax0 = sns.countplot(x='gender', data=train_df, ax=axes[0])\n",
    "ax1 = sns.countplot(x=\"age\", data=train_df, ax=axes[1], hue='gender')\n",
    "\n",
    "ax0.set_xticklabels(['male', 'female'])\n",
    "ax1.set_xticklabels(['< 30', '>= 30 and < 60', '>= 60'])\n",
    "ax1.legend(['male', 'female'])\n",
    "\n",
    "for p in ax0.patches:\n",
    "        ax0.annotate('{}'.format(p.get_height()), (p.get_x()+0.3, p.get_height()+20), fontsize=15)\n",
    "for p in ax1.patches:\n",
    "        ax1.annotate('{}'.format(p.get_height()), (p.get_x()+0.1, p.get_height()+10), fontsize=13)\n",
    "\n",
    "plt.show()"
   ]
  },
  {
   "cell_type": "code",
   "execution_count": null,
   "id": "ee79c0af-463c-4776-9a03-ede76d1506c1",
   "metadata": {},
   "outputs": [],
   "source": [
    "# age 비율 비슷하게 사람들 나눔\n",
    "from sklearn.model_selection import train_test_split\n",
    "train_set, val_set = train_test_split(train_df, test_size=0.2,\n",
    "                                      shuffle=True, stratify=train_df['age'],\n",
    "                                      random_state = 42)"
   ]
  },
  {
   "cell_type": "code",
   "execution_count": 19,
   "id": "ca826379-d7cc-4531-8a63-f0d3cc1dc97f",
   "metadata": {},
   "outputs": [],
   "source": [
    "# mask 정보까지 포함\n",
    "train_set = train_path_label_df[train_path_label_df['id'].isin(train_set['id'])]\n",
    "val_set = train_path_label_df[train_path_label_df['id'].isin(val_set['id'])]"
   ]
  },
  {
   "cell_type": "code",
   "execution_count": 20,
   "id": "3fd9bbe1-4ad4-4dd6-add5-9f2128617eb8",
   "metadata": {},
   "outputs": [
    {
     "data": {
      "text/plain": [
       "((15120, 3), (3780, 3))"
      ]
     },
     "execution_count": 20,
     "metadata": {},
     "output_type": "execute_result"
    }
   ],
   "source": [
    "train_set.shape, val_set.shape"
   ]
  },
  {
   "cell_type": "code",
   "execution_count": 21,
   "id": "987213df-0240-4b42-8de5-60ad6e5fb293",
   "metadata": {},
   "outputs": [
    {
     "data": {
      "text/plain": [
       "<matplotlib.axes._subplots.AxesSubplot at 0x7efcd8027190>"
      ]
     },
     "execution_count": 21,
     "metadata": {},
     "output_type": "execute_result"
    },
    {
     "data": {
      "image/png": "[encoded data removed]",
      "text/plain": [
       "<Figure size 864x360 with 2 Axes>"
      ]
     },
     "metadata": {
      "needs_background": "light"
     },
     "output_type": "display_data"
    }
   ],
   "source": [
    "# train val set 라벨 시각화\n",
    "import seaborn as sns\n",
    "fig, axes = plt.subplots(1,2, figsize=(12,5))\n",
    "sns.countplot(x='label', data=train_set, ax=axes[0])\n",
    "sns.countplot(x='label', data=val_set, ax=axes[1])"
   ]
  },
  {
   "cell_type": "code",
   "execution_count": 22,
   "id": "b0aa224f-7e03-47df-bf58-73d1dd49e546",
   "metadata": {},
   "outputs": [],
   "source": [
    "BATCH_SIZE = 64\n",
    "\n",
    "train_dataset = MyDataset(train_set, transform)\n",
    "val_dataset = MyDataset(val_set, transform)"
   ]
  },
  {
   "cell_type": "markdown",
   "id": "803bd75f-49ff-46d1-a213-27baf1a98084",
   "metadata": {},
   "source": [
    "WeightedRandomSampler"
   ]
  },
  {
   "cell_type": "code",
   "execution_count": 25,
   "id": "aefc1559-7f46-452c-95e1-6f8965f8d835",
   "metadata": {},
   "outputs": [],
   "source": [
    "# class_counts = train_set['label'].value_counts().to_list()\n",
    "# num_samples = sum(class_counts) # 전체 데이터 갯수\n",
    "# labels = train_set['label'].to_list()\n",
    "# #클래스별 가중치 부여 \n",
    "# class_weights = [num_samples / class_counts[i] for i in range(len(class_counts))] \n",
    "# # 해당 데이터의 label에 해당되는 가중치\n",
    "# weights = [class_weights[labels[i]] for i in range(int(num_samples))] #해당 레이블마다의 가중치 비율\n",
    "# sampler = WeightedRandomSampler(torch.DoubleTensor(weights), int(num_samples))"
   ]
  },
  {
   "cell_type": "markdown",
   "id": "344279e5-bdee-481f-8f53-e92979840e66",
   "metadata": {},
   "source": [
    "# DataLoader"
   ]
  },
  {
   "cell_type": "code",
   "execution_count": 23,
   "id": "468a4cf2-b104-4ec6-babd-003276ca02f7",
   "metadata": {},
   "outputs": [],
   "source": [
    "train_dataloader = DataLoader(train_dataset,\n",
    "                              batch_size = BATCH_SIZE,\n",
    "                              shuffle = True,\n",
    "#                          samplermpler=sampler\n",
    "                             )\n",
    "val_dataloader = DataLoader(val_dataset,\n",
    "                            batch_size = BATCH_SIZE,\n",
    "                            shuffle = False\n",
    "                            )"
   ]
  },
  {
   "cell_type": "code",
   "execution_count": 24,
   "id": "95e2f4bc-2643-4c12-a90c-90150c395b35",
   "metadata": {},
   "outputs": [
    {
     "data": {
      "text/plain": [
       "torch.Size([64, 3, 512, 384])"
      ]
     },
     "execution_count": 24,
     "metadata": {},
     "output_type": "execute_result"
    }
   ],
   "source": [
    "next(iter(train_dataloader))[0].shape"
   ]
  },
  {
   "cell_type": "markdown",
   "id": "4af50f97-6096-4261-a99f-fe1c29012c5c",
   "metadata": {},
   "source": [
    "# Model\n",
    "pretrained resnet18 without freeze"
   ]
  },
  {
   "cell_type": "code",
   "execution_count": 25,
   "id": "49e24ec5-7703-4a70-953d-048cae3541e8",
   "metadata": {},
   "outputs": [],
   "source": [
    "resnet18 = torchvision.models.resnet18(pretrained=True) # Model"
   ]
  },
  {
   "cell_type": "code",
   "execution_count": 26,
   "id": "ca9463ee-3770-4180-aff8-ea7ce76652be",
   "metadata": {},
   "outputs": [],
   "source": [
    "import math\n",
    "\n",
    "num_classes = 18\n",
    "\n",
    "input_features_fc_layer = resnet18.fc.in_features   # fc layer 채널 수 얻기\n",
    "resnet18.fc = nn.Linear(input_features_fc_layer, num_classes, bias=False)   # fc layer 수정"
   ]
  },
  {
   "cell_type": "code",
   "execution_count": 27,
   "id": "c30ef458-57c2-4a70-9650-869ea44c503a",
   "metadata": {},
   "outputs": [
    {
     "name": "stdout",
     "output_type": "stream",
     "text": [
      "ResNet(\n",
      "  (conv1): Conv2d(3, 64, kernel_size=(7, 7), stride=(2, 2), padding=(3, 3), bias=False)\n",
      "  (bn1): BatchNorm2d(64, eps=1e-05, momentum=0.1, affine=True, track_running_stats=True)\n",
      "  (relu): ReLU(inplace=True)\n",
      "  (maxpool): MaxPool2d(kernel_size=3, stride=2, padding=1, dilation=1, ceil_mode=False)\n",
      "  (layer1): Sequential(\n",
      "    (0): BasicBlock(\n",
      "      (conv1): Conv2d(64, 64, kernel_size=(3, 3), stride=(1, 1), padding=(1, 1), bias=False)\n",
      "      (bn1): BatchNorm2d(64, eps=1e-05, momentum=0.1, affine=True, track_running_stats=True)\n",
      "      (relu): ReLU(inplace=True)\n",
      "      (conv2): Conv2d(64, 64, kernel_size=(3, 3), stride=(1, 1), padding=(1, 1), bias=False)\n",
      "      (bn2): BatchNorm2d(64, eps=1e-05, momentum=0.1, affine=True, track_running_stats=True)\n",
      "    )\n",
      "    (1): BasicBlock(\n",
      "      (conv1): Conv2d(64, 64, kernel_size=(3, 3), stride=(1, 1), padding=(1, 1), bias=False)\n",
      "      (bn1): BatchNorm2d(64, eps=1e-05, momentum=0.1, affine=True, track_running_stats=True)\n",
      "      (relu): ReLU(inplace=True)\n",
      "      (conv2): Conv2d(64, 64, kernel_size=(3, 3), stride=(1, 1), padding=(1, 1), bias=False)\n",
      "      (bn2): BatchNorm2d(64, eps=1e-05, momentum=0.1, affine=True, track_running_stats=True)\n",
      "    )\n",
      "  )\n",
      "  (layer2): Sequential(\n",
      "    (0): BasicBlock(\n",
      "      (conv1): Conv2d(64, 128, kernel_size=(3, 3), stride=(2, 2), padding=(1, 1), bias=False)\n",
      "      (bn1): BatchNorm2d(128, eps=1e-05, momentum=0.1, affine=True, track_running_stats=True)\n",
      "      (relu): ReLU(inplace=True)\n",
      "      (conv2): Conv2d(128, 128, kernel_size=(3, 3), stride=(1, 1), padding=(1, 1), bias=False)\n",
      "      (bn2): BatchNorm2d(128, eps=1e-05, momentum=0.1, affine=True, track_running_stats=True)\n",
      "      (downsample): Sequential(\n",
      "        (0): Conv2d(64, 128, kernel_size=(1, 1), stride=(2, 2), bias=False)\n",
      "        (1): BatchNorm2d(128, eps=1e-05, momentum=0.1, affine=True, track_running_stats=True)\n",
      "      )\n",
      "    )\n",
      "    (1): BasicBlock(\n",
      "      (conv1): Conv2d(128, 128, kernel_size=(3, 3), stride=(1, 1), padding=(1, 1), bias=False)\n",
      "      (bn1): BatchNorm2d(128, eps=1e-05, momentum=0.1, affine=True, track_running_stats=True)\n",
      "      (relu): ReLU(inplace=True)\n",
      "      (conv2): Conv2d(128, 128, kernel_size=(3, 3), stride=(1, 1), padding=(1, 1), bias=False)\n",
      "      (bn2): BatchNorm2d(128, eps=1e-05, momentum=0.1, affine=True, track_running_stats=True)\n",
      "    )\n",
      "  )\n",
      "  (layer3): Sequential(\n",
      "    (0): BasicBlock(\n",
      "      (conv1): Conv2d(128, 256, kernel_size=(3, 3), stride=(2, 2), padding=(1, 1), bias=False)\n",
      "      (bn1): BatchNorm2d(256, eps=1e-05, momentum=0.1, affine=True, track_running_stats=True)\n",
      "      (relu): ReLU(inplace=True)\n",
      "      (conv2): Conv2d(256, 256, kernel_size=(3, 3), stride=(1, 1), padding=(1, 1), bias=False)\n",
      "      (bn2): BatchNorm2d(256, eps=1e-05, momentum=0.1, affine=True, track_running_stats=True)\n",
      "      (downsample): Sequential(\n",
      "        (0): Conv2d(128, 256, kernel_size=(1, 1), stride=(2, 2), bias=False)\n",
      "        (1): BatchNorm2d(256, eps=1e-05, momentum=0.1, affine=True, track_running_stats=True)\n",
      "      )\n",
      "    )\n",
      "    (1): BasicBlock(\n",
      "      (conv1): Conv2d(256, 256, kernel_size=(3, 3), stride=(1, 1), padding=(1, 1), bias=False)\n",
      "      (bn1): BatchNorm2d(256, eps=1e-05, momentum=0.1, affine=True, track_running_stats=True)\n",
      "      (relu): ReLU(inplace=True)\n",
      "      (conv2): Conv2d(256, 256, kernel_size=(3, 3), stride=(1, 1), padding=(1, 1), bias=False)\n",
      "      (bn2): BatchNorm2d(256, eps=1e-05, momentum=0.1, affine=True, track_running_stats=True)\n",
      "    )\n",
      "  )\n",
      "  (layer4): Sequential(\n",
      "    (0): BasicBlock(\n",
      "      (conv1): Conv2d(256, 512, kernel_size=(3, 3), stride=(2, 2), padding=(1, 1), bias=False)\n",
      "      (bn1): BatchNorm2d(512, eps=1e-05, momentum=0.1, affine=True, track_running_stats=True)\n",
      "      (relu): ReLU(inplace=True)\n",
      "      (conv2): Conv2d(512, 512, kernel_size=(3, 3), stride=(1, 1), padding=(1, 1), bias=False)\n",
      "      (bn2): BatchNorm2d(512, eps=1e-05, momentum=0.1, affine=True, track_running_stats=True)\n",
      "      (downsample): Sequential(\n",
      "        (0): Conv2d(256, 512, kernel_size=(1, 1), stride=(2, 2), bias=False)\n",
      "        (1): BatchNorm2d(512, eps=1e-05, momentum=0.1, affine=True, track_running_stats=True)\n",
      "      )\n",
      "    )\n",
      "    (1): BasicBlock(\n",
      "      (conv1): Conv2d(512, 512, kernel_size=(3, 3), stride=(1, 1), padding=(1, 1), bias=False)\n",
      "      (bn1): BatchNorm2d(512, eps=1e-05, momentum=0.1, affine=True, track_running_stats=True)\n",
      "      (relu): ReLU(inplace=True)\n",
      "      (conv2): Conv2d(512, 512, kernel_size=(3, 3), stride=(1, 1), padding=(1, 1), bias=False)\n",
      "      (bn2): BatchNorm2d(512, eps=1e-05, momentum=0.1, affine=True, track_running_stats=True)\n",
      "    )\n",
      "  )\n",
      "  (avgpool): AdaptiveAvgPool2d(output_size=(1, 1))\n",
      "  (fc): Linear(in_features=512, out_features=18, bias=False)\n",
      ")\n"
     ]
    }
   ],
   "source": [
    "print(resnet18)"
   ]
  },
  {
   "cell_type": "markdown",
   "id": "e099bba0-5caa-4252-9db7-55ee82df7e18",
   "metadata": {},
   "source": [
    "# Train "
   ]
  },
  {
   "cell_type": "code",
   "execution_count": 28,
   "id": "8a416451-bb00-4982-9806-0c3c2eec0901",
   "metadata": {},
   "outputs": [],
   "source": [
    "class FocalLoss(nn.Module):\n",
    "    def __init__(self, weight=None,\n",
    "                 gamma=2., reduction='mean'):\n",
    "        nn.Module.__init__(self)\n",
    "        self.weight = weight\n",
    "        self.gamma = gamma\n",
    "        self.reduction = reduction\n",
    "\n",
    "    def forward(self, input_tensor, target_tensor):\n",
    "        log_prob = F.log_softmax(input_tensor, dim=-1)\n",
    "        prob = torch.exp(log_prob)\n",
    "        return F.nll_loss(\n",
    "            ((1 - prob) ** self.gamma) * log_prob,\n",
    "            target_tensor,\n",
    "            weight=self.weight,\n",
    "            reduction=self.reduction\n",
    "        )"
   ]
  },
  {
   "cell_type": "code",
   "execution_count": 29,
   "id": "683b0bb2-f4fd-4ee8-8a4f-1b418e77ecb4",
   "metadata": {},
   "outputs": [],
   "source": [
    "resnet18.to(device)\n",
    "\n",
    "LR = 0.0001\n",
    "NUM_EPOCH = 5\n",
    "\n",
    "criterion = FocalLoss()\n",
    "optimizer = optim.Adam(resnet18.parameters(), lr=LR)\n",
    "\n",
    "dataloaders = {\n",
    "    'train': train_dataloader,\n",
    "    'test': val_dataloader\n",
    "}"
   ]
  },
  {
   "cell_type": "code",
   "execution_count": 30,
   "id": "9f915367-5c84-4848-873c-f67814aef71a",
   "metadata": {},
   "outputs": [
    {
     "name": "stdout",
     "output_type": "stream",
     "text": [
      "현재 epoch-1의 train-데이터 셋에서 평균 Loss : 0.386, 평균 Accuracy : 0.793\n",
      "현재 epoch-1의 test-데이터 셋에서 평균 Loss : 0.199, 평균 Accuracy : 0.819\n",
      "현재 epoch-2의 train-데이터 셋에서 평균 Loss : 0.049, 평균 Accuracy : 0.957\n",
      "현재 epoch-2의 test-데이터 셋에서 평균 Loss : 0.262, 평균 Accuracy : 0.815\n",
      "현재 epoch-3의 train-데이터 셋에서 평균 Loss : 0.011, 평균 Accuracy : 0.994\n",
      "현재 epoch-3의 test-데이터 셋에서 평균 Loss : 0.263, 평균 Accuracy : 0.821\n",
      "현재 epoch-4의 train-데이터 셋에서 평균 Loss : 0.004, 평균 Accuracy : 0.998\n",
      "현재 epoch-4의 test-데이터 셋에서 평균 Loss : 0.273, 평균 Accuracy : 0.834\n",
      "현재 epoch-5의 train-데이터 셋에서 평균 Loss : 0.002, 평균 Accuracy : 0.999\n",
      "현재 epoch-5의 test-데이터 셋에서 평균 Loss : 0.273, 평균 Accuracy : 0.839\n",
      "학습 종료!\n",
      "최고 accuracy : 0.8391534686088562, 최고 낮은 loss : 0.1991131420498566\n"
     ]
    }
   ],
   "source": [
    "# 학습 코드 시작\n",
    "best_test_accuracy = 0.\n",
    "best_test_loss = 9999.\n",
    "\n",
    "train_losses, val_losses,  train_accs, val_accs= [], [], [], []\n",
    "\n",
    "for epoch in range(1, NUM_EPOCH+1):\n",
    "    for phase in [\"train\", \"test\"]:\n",
    "        running_loss = 0.\n",
    "        running_acc = 0.\n",
    "        if phase == \"train\":\n",
    "            resnet18.train()    # 네트워크 모델을 train 모드로 두어 gradient을 계산하고, 여러 sub module (배치 정규화, 드롭아웃 등)이 train mode로 작동할 수 있도록 함\n",
    "        elif phase == \"test\":\n",
    "            resnet18.eval() # 네트워크 모델을 eval 모드 두어 여러 sub module들이 eval mode로 작동할 수 있게 함\n",
    "\n",
    "        for ind, (images, labels) in enumerate(dataloaders[phase]):\n",
    "            images = images.to(device)\n",
    "            labels = labels.to(device)\n",
    "\n",
    "            optimizer.zero_grad()   # parameter gradient를 업데이트 전 초기화함\n",
    "\n",
    "            with torch.set_grad_enabled(phase == \"train\"):  # train 모드일 시에는 gradient를 계산하고, 아닐 때는 gradient를 계산하지 않아 연산량 최소화\n",
    "                logits = resnet18(images)\n",
    "                _, preds = torch.max(logits, 1) # 모델에서 linear 값으로 나오는 예측 값 ([0.9,1.2, 3.2,0.1,-0.1,...])을 최대 output index를 찾아 예측 레이블([2])로 변경함  \n",
    "                loss = criterion(logits, labels)\n",
    "\n",
    "                if phase == \"train\":\n",
    "                    loss.backward() # 모델의 예측 값과 실제 값의 CrossEntropy 차이를 통해 gradient 계산\n",
    "                    optimizer.step()    # 계산된 gradient를 가지고 모델 업데이트\n",
    "\n",
    "            running_loss += loss.item() * images.size(0)    # 한 Batch에서의 loss 값 저장\n",
    "            running_acc += torch.sum(preds == labels.data)  # 한 Batch에서의 Accuracy 값 저장\n",
    "\n",
    "        # 한 epoch이 모두 종료되었을 때,\n",
    "        epoch_loss = running_loss / len(dataloaders[phase].dataset)\n",
    "        epoch_acc = running_acc / len(dataloaders[phase].dataset)\n",
    "        \n",
    "        # plot 그리기 위해\n",
    "        if phase == \"train\":\n",
    "            train_losses.append(epoch_loss) \n",
    "            train_accs.append(epoch_acc)\n",
    "        else:\n",
    "            val_losses.append(epoch_loss)\n",
    "            val_accs.append(epoch_acc)\n",
    "\n",
    "        \n",
    "        print(f\"현재 epoch-{epoch}의 {phase}-데이터 셋에서 평균 Loss : {epoch_loss:.3f}, 평균 Accuracy : {epoch_acc:.3f}\")\n",
    "        if phase == \"test\" and best_test_accuracy < epoch_acc:  # phase가 test일 때, best accuracy 계산\n",
    "            best_test_accuracy = epoch_acc\n",
    "        if phase == \"test\" and best_test_loss > epoch_loss: # phase가 test일 때, best loss 계산\n",
    "            best_test_loss = epoch_loss\n",
    "print(\"학습 종료!\")\n",
    "print(f\"최고 accuracy : {best_test_accuracy}, 최고 낮은 loss : {best_test_loss}\")"
   ]
  },
  {
   "cell_type": "code",
   "execution_count": 32,
   "id": "b41196bf-3fa9-4de2-94cd-a5ff197c3e87",
   "metadata": {},
   "outputs": [
    {
     "data": {
      "image/png": "[encoded data removed]",
      "text/plain": [
       "<Figure size 720x360 with 2 Axes>"
      ]
     },
     "metadata": {
      "needs_background": "light"
     },
     "output_type": "display_data"
    }
   ],
   "source": [
    "plt.figure(figsize=(10,5)) \n",
    "plt.subplot(1,2,1) \n",
    "plt.xlabel('Epoch') \n",
    "plt.ylabel('Loss') \n",
    "# loss = [i.detach().numpy() for i in losses]\n",
    "plt.plot(train_losses, 'b-', label='train loss') \n",
    "plt.plot(val_losses, 'r--', label='val loss') \n",
    "plt.legend()\n",
    "\n",
    "plt.subplot(1,2,2) \n",
    "plt.xlabel('Epoch') \n",
    "plt.ylabel('Accuracy') \n",
    "plt.plot(train_accs, 'g-', label='train accuracy') \n",
    "plt.plot(val_accs, 'r--', label='val accuracy') \n",
    "plt.legend()\n",
    "plt.show()"
   ]
  },
  {
   "cell_type": "markdown",
   "id": "0d7310e5",
   "metadata": {},
   "source": [
    "실제 정답과 pred 비교하려고, path pred target을 df 만듦"
   ]
  },
  {
   "cell_type": "code",
   "execution_count": 33,
   "id": "abdb76bc-a481-44da-a349-14288c5b3171",
   "metadata": {},
   "outputs": [],
   "source": [
    "def check_eval(raw_data, dataloader, model, device):\n",
    "    result = []\n",
    "    with torch.no_grad():\n",
    "        model.eval()\n",
    "        for i, (X,y) in enumerate(dataloader):\n",
    "            model_pred = model.forward(X.to(device))\n",
    "            _, y_pred = torch.max(model_pred, 1)\n",
    "\n",
    "            result.append([raw_data.iloc[i]['path'], y_pred.cpu().numpy()[0], y.cpu().numpy()[0]])\n",
    "    result = pd.DataFrame(result, columns=['path', 'pred', 'target'])\n",
    "    return result"
   ]
  },
  {
   "cell_type": "code",
   "execution_count": 34,
   "id": "2eddbc89-f7bb-4c21-8937-3e2f9961156b",
   "metadata": {},
   "outputs": [
    {
     "data": {
      "text/html": [
       "<div>\n",
       "<style scoped>\n",
       "    .dataframe tbody tr th:only-of-type {\n",
       "        vertical-align: middle;\n",
       "    }\n",
       "\n",
       "    .dataframe tbody tr th {\n",
       "        vertical-align: top;\n",
       "    }\n",
       "\n",
       "    .dataframe thead th {\n",
       "        text-align: right;\n",
       "    }\n",
       "</style>\n",
       "<table border=\"1\" class=\"dataframe\">\n",
       "  <thead>\n",
       "    <tr style=\"text-align: right;\">\n",
       "      <th></th>\n",
       "      <th>path</th>\n",
       "      <th>pred</th>\n",
       "      <th>target</th>\n",
       "    </tr>\n",
       "  </thead>\n",
       "  <tbody>\n",
       "    <tr>\n",
       "      <th>0</th>\n",
       "      <td>../input/data/train/images/000007_female_Asian...</td>\n",
       "      <td>10</td>\n",
       "      <td>11</td>\n",
       "    </tr>\n",
       "    <tr>\n",
       "      <th>1</th>\n",
       "      <td>../input/data/train/images/000007_female_Asian...</td>\n",
       "      <td>4</td>\n",
       "      <td>5</td>\n",
       "    </tr>\n",
       "    <tr>\n",
       "      <th>2</th>\n",
       "      <td>../input/data/train/images/000007_female_Asian...</td>\n",
       "      <td>4</td>\n",
       "      <td>5</td>\n",
       "    </tr>\n",
       "    <tr>\n",
       "      <th>3</th>\n",
       "      <td>../input/data/train/images/000007_female_Asian...</td>\n",
       "      <td>4</td>\n",
       "      <td>5</td>\n",
       "    </tr>\n",
       "    <tr>\n",
       "      <th>4</th>\n",
       "      <td>../input/data/train/images/000007_female_Asian...</td>\n",
       "      <td>4</td>\n",
       "      <td>5</td>\n",
       "    </tr>\n",
       "    <tr>\n",
       "      <th>...</th>\n",
       "      <td>...</td>\n",
       "      <td>...</td>\n",
       "      <td>...</td>\n",
       "    </tr>\n",
       "    <tr>\n",
       "      <th>3775</th>\n",
       "      <td>../input/data/train/images/006945_male_Asian_1...</td>\n",
       "      <td>0</td>\n",
       "      <td>0</td>\n",
       "    </tr>\n",
       "    <tr>\n",
       "      <th>3776</th>\n",
       "      <td>../input/data/train/images/006945_male_Asian_1...</td>\n",
       "      <td>0</td>\n",
       "      <td>0</td>\n",
       "    </tr>\n",
       "    <tr>\n",
       "      <th>3777</th>\n",
       "      <td>../input/data/train/images/006945_male_Asian_1...</td>\n",
       "      <td>0</td>\n",
       "      <td>0</td>\n",
       "    </tr>\n",
       "    <tr>\n",
       "      <th>3778</th>\n",
       "      <td>../input/data/train/images/006945_male_Asian_1...</td>\n",
       "      <td>0</td>\n",
       "      <td>0</td>\n",
       "    </tr>\n",
       "    <tr>\n",
       "      <th>3779</th>\n",
       "      <td>../input/data/train/images/006945_male_Asian_1...</td>\n",
       "      <td>12</td>\n",
       "      <td>12</td>\n",
       "    </tr>\n",
       "  </tbody>\n",
       "</table>\n",
       "<p>3780 rows × 3 columns</p>\n",
       "</div>"
      ],
      "text/plain": [
       "                                                   path  pred  target\n",
       "0     ../input/data/train/images/000007_female_Asian...    10      11\n",
       "1     ../input/data/train/images/000007_female_Asian...     4       5\n",
       "2     ../input/data/train/images/000007_female_Asian...     4       5\n",
       "3     ../input/data/train/images/000007_female_Asian...     4       5\n",
       "4     ../input/data/train/images/000007_female_Asian...     4       5\n",
       "...                                                 ...   ...     ...\n",
       "3775  ../input/data/train/images/006945_male_Asian_1...     0       0\n",
       "3776  ../input/data/train/images/006945_male_Asian_1...     0       0\n",
       "3777  ../input/data/train/images/006945_male_Asian_1...     0       0\n",
       "3778  ../input/data/train/images/006945_male_Asian_1...     0       0\n",
       "3779  ../input/data/train/images/006945_male_Asian_1...    12      12\n",
       "\n",
       "[3780 rows x 3 columns]"
      ]
     },
     "execution_count": 34,
     "metadata": {},
     "output_type": "execute_result"
    }
   ],
   "source": [
    "valid_testing_dataloader = DataLoader(val_dataset, shuffle=False)\n",
    "\n",
    "check_eval_df = check_eval(val_set, valid_testing_dataloader, resnet18, device)\n",
    "check_eval_df"
   ]
  },
  {
   "cell_type": "markdown",
   "id": "afcf9a39",
   "metadata": {},
   "source": [
    "잘못 예측한 데이터만 모아봄"
   ]
  },
  {
   "cell_type": "code",
   "execution_count": 35,
   "id": "2bb95004-b3ba-44c4-a0d0-57a447b1d09e",
   "metadata": {},
   "outputs": [
    {
     "data": {
      "text/html": [
       "<div>\n",
       "<style scoped>\n",
       "    .dataframe tbody tr th:only-of-type {\n",
       "        vertical-align: middle;\n",
       "    }\n",
       "\n",
       "    .dataframe tbody tr th {\n",
       "        vertical-align: top;\n",
       "    }\n",
       "\n",
       "    .dataframe thead th {\n",
       "        text-align: right;\n",
       "    }\n",
       "</style>\n",
       "<table border=\"1\" class=\"dataframe\">\n",
       "  <thead>\n",
       "    <tr style=\"text-align: right;\">\n",
       "      <th></th>\n",
       "      <th>path</th>\n",
       "      <th>pred</th>\n",
       "      <th>target</th>\n",
       "    </tr>\n",
       "  </thead>\n",
       "  <tbody>\n",
       "    <tr>\n",
       "      <th>0</th>\n",
       "      <td>../input/data/train/images/000007_female_Asian...</td>\n",
       "      <td>10</td>\n",
       "      <td>11</td>\n",
       "    </tr>\n",
       "    <tr>\n",
       "      <th>1</th>\n",
       "      <td>../input/data/train/images/000007_female_Asian...</td>\n",
       "      <td>4</td>\n",
       "      <td>5</td>\n",
       "    </tr>\n",
       "    <tr>\n",
       "      <th>2</th>\n",
       "      <td>../input/data/train/images/000007_female_Asian...</td>\n",
       "      <td>4</td>\n",
       "      <td>5</td>\n",
       "    </tr>\n",
       "    <tr>\n",
       "      <th>3</th>\n",
       "      <td>../input/data/train/images/000007_female_Asian...</td>\n",
       "      <td>4</td>\n",
       "      <td>5</td>\n",
       "    </tr>\n",
       "    <tr>\n",
       "      <th>4</th>\n",
       "      <td>../input/data/train/images/000007_female_Asian...</td>\n",
       "      <td>4</td>\n",
       "      <td>5</td>\n",
       "    </tr>\n",
       "    <tr>\n",
       "      <th>...</th>\n",
       "      <td>...</td>\n",
       "      <td>...</td>\n",
       "      <td>...</td>\n",
       "    </tr>\n",
       "    <tr>\n",
       "      <th>603</th>\n",
       "      <td>../input/data/train/images/006269_female_Asian...</td>\n",
       "      <td>3</td>\n",
       "      <td>9</td>\n",
       "    </tr>\n",
       "    <tr>\n",
       "      <th>604</th>\n",
       "      <td>../input/data/train/images/006511_male_Asian_1...</td>\n",
       "      <td>6</td>\n",
       "      <td>0</td>\n",
       "    </tr>\n",
       "    <tr>\n",
       "      <th>605</th>\n",
       "      <td>../input/data/train/images/006684_male_Asian_1...</td>\n",
       "      <td>3</td>\n",
       "      <td>0</td>\n",
       "    </tr>\n",
       "    <tr>\n",
       "      <th>606</th>\n",
       "      <td>../input/data/train/images/006684_male_Asian_1...</td>\n",
       "      <td>3</td>\n",
       "      <td>0</td>\n",
       "    </tr>\n",
       "    <tr>\n",
       "      <th>607</th>\n",
       "      <td>../input/data/train/images/006684_male_Asian_1...</td>\n",
       "      <td>3</td>\n",
       "      <td>0</td>\n",
       "    </tr>\n",
       "  </tbody>\n",
       "</table>\n",
       "<p>608 rows × 3 columns</p>\n",
       "</div>"
      ],
      "text/plain": [
       "                                                  path  pred  target\n",
       "0    ../input/data/train/images/000007_female_Asian...    10      11\n",
       "1    ../input/data/train/images/000007_female_Asian...     4       5\n",
       "2    ../input/data/train/images/000007_female_Asian...     4       5\n",
       "3    ../input/data/train/images/000007_female_Asian...     4       5\n",
       "4    ../input/data/train/images/000007_female_Asian...     4       5\n",
       "..                                                 ...   ...     ...\n",
       "603  ../input/data/train/images/006269_female_Asian...     3       9\n",
       "604  ../input/data/train/images/006511_male_Asian_1...     6       0\n",
       "605  ../input/data/train/images/006684_male_Asian_1...     3       0\n",
       "606  ../input/data/train/images/006684_male_Asian_1...     3       0\n",
       "607  ../input/data/train/images/006684_male_Asian_1...     3       0\n",
       "\n",
       "[608 rows x 3 columns]"
      ]
     },
     "execution_count": 35,
     "metadata": {},
     "output_type": "execute_result"
    }
   ],
   "source": [
    "wrong_df = check_eval_df[check_eval_df['pred'] != check_eval_df['target']]\n",
    "wrong_df = wrong_df.reset_index(drop=True)\n",
    "wrong_df\n"
   ]
  },
  {
   "cell_type": "markdown",
   "id": "e58600a3",
   "metadata": {},
   "source": [
    "틀린 데이터 보려고 이미지 출력 (저작권 상 비공개)"
   ]
  },
  {
   "cell_type": "code",
   "execution_count": 40,
   "id": "ae2acef1-be0c-41f1-ae76-ae8169fc4e47",
   "metadata": {},
   "outputs": [],
   "source": [
    "def draw_(df):\n",
    "    plt.figure(figsize=(15,30))\n",
    "    row = 7\n",
    "    for i in range(30):\n",
    "        plt.subplot(row+1, 30//row, i+1)\n",
    "        plt.imshow(Image.open(df['path'][i]))\n",
    "        plt.title(f\"target: {df['target'][i]}, pred: {df['pred'][i]}\", size=20)\n",
    "        plt.axis('off')\n",
    "    plt.tight_layout()\n",
    "    plt.show()"
   ]
  },
  {
   "cell_type": "code",
   "execution_count": null,
   "id": "b4c84def-ff21-4735-8229-c5ca86868146",
   "metadata": {},
   "outputs": [],
   "source": [
    "draw_(wrong_df)\n",
    "# 주로 age 정보 틀리는 것을 알 수 있음"
   ]
  },
  {
   "cell_type": "code",
   "execution_count": 42,
   "id": "240de9b9",
   "metadata": {},
   "outputs": [
    {
     "data": {
      "text/plain": [
       "0.7646365925420411"
      ]
     },
     "execution_count": 42,
     "metadata": {},
     "output_type": "execute_result"
    }
   ],
   "source": [
    "from sklearn.metrics import accuracy_score, recall_score, precision_score, f1_score\n",
    "f1_score(check_eval_df['target'], check_eval_df['pred'], average='macro')"
   ]
  },
  {
   "cell_type": "markdown",
   "id": "7bbc6ff3-34b8-4f5d-88d2-ea932e0c0fbf",
   "metadata": {},
   "source": [
    "# Inference"
   ]
  },
  {
   "cell_type": "markdown",
   "id": "983f9931-a3f1-4821-ab5f-d4ee630c810d",
   "metadata": {
    "tags": []
   },
   "source": [
    "## 0. Libarary 불러오기 및 경로설정"
   ]
  },
  {
   "cell_type": "code",
   "execution_count": 45,
   "id": "2c11f437-d277-4f9d-a704-151f7c98491f",
   "metadata": {},
   "outputs": [],
   "source": [
    "import os\n",
    "import pandas as pd\n",
    "from PIL import Image\n",
    "\n",
    "import torch\n",
    "import torch.nn as nn\n",
    "import torch.nn.functional as F\n",
    "from torch.utils.data import Dataset, DataLoader\n",
    "\n",
    "from torchvision import transforms\n",
    "from torchvision.transforms import Resize, ToTensor, Normalize"
   ]
  },
  {
   "cell_type": "code",
   "execution_count": 46,
   "id": "b0b46f9c-b027-4d2a-8323-ac64efb160c5",
   "metadata": {},
   "outputs": [],
   "source": [
    "# 테스트 데이터셋 폴더 경로를 지정\n",
    "test_dir = '/opt/ml/input/data/eval'"
   ]
  },
  {
   "cell_type": "markdown",
   "id": "1229257b-3589-46ad-a386-53cb2c147e4f",
   "metadata": {},
   "source": [
    "## 1. Model 정의"
   ]
  },
  {
   "cell_type": "code",
   "execution_count": 3,
   "id": "081d76c3-4a5a-4584-94cb-6fb3e656cd7d",
   "metadata": {},
   "outputs": [],
   "source": [
    "# 위에서 학습한 모델 사용"
   ]
  },
  {
   "cell_type": "markdown",
   "id": "cba87e70-90c0-44c0-ab8a-a14094d9854a",
   "metadata": {},
   "source": [
    "## 2. Test Dataset 정의"
   ]
  },
  {
   "cell_type": "code",
   "execution_count": 47,
   "id": "c2690b64-e399-4c76-8bf2-90025b8167ad",
   "metadata": {},
   "outputs": [],
   "source": [
    "class TestDataset(Dataset):\n",
    "    def __init__(self, img_paths, transform):\n",
    "        self.img_paths = img_paths\n",
    "        self.transform = transform\n",
    "\n",
    "    def __getitem__(self, index):\n",
    "        image = Image.open(self.img_paths[index])\n",
    "\n",
    "        if self.transform:\n",
    "            image = self.transform(image)\n",
    "        return image\n",
    "\n",
    "    def __len__(self):\n",
    "        return len(self.img_paths)"
   ]
  },
  {
   "cell_type": "markdown",
   "id": "39c6eaba-c111-4b05-baf6-0c62d2bb8bfb",
   "metadata": {},
   "source": [
    "## 3. Inference"
   ]
  },
  {
   "cell_type": "code",
   "execution_count": 48,
   "id": "b0826fe6-38de-4d66-954c-cc84b0d1c02e",
   "metadata": {},
   "outputs": [
    {
     "name": "stdout",
     "output_type": "stream",
     "text": [
      "test inference is done!\n"
     ]
    }
   ],
   "source": [
    "# meta 데이터와 이미지 경로를 불러옵니다.\n",
    "submission = pd.read_csv(os.path.join(test_dir, 'info.csv'))\n",
    "image_dir = os.path.join(test_dir, 'images')\n",
    "\n",
    "# Test Dataset 클래스 객체를 생성하고 DataLoader를 만듭니다.\n",
    "image_paths = [os.path.join(image_dir, img_id) for img_id in submission.ImageID]\n",
    "transform = transforms.Compose([\n",
    "    Resize((512, 384), Image.BILINEAR),\n",
    "    ToTensor(),\n",
    "    Normalize(mean=(0.5, 0.5, 0.5), std=(0.2, 0.2, 0.2)),\n",
    "])\n",
    "dataset = TestDataset(image_paths, transform)\n",
    "\n",
    "loader = DataLoader(\n",
    "    dataset,\n",
    "    shuffle=False\n",
    ")\n",
    "\n",
    "# 모델을 정의합니다. (학습한 모델이 있다면 torch.load로 모델을 불러주세요!)\n",
    "device = torch.device('cuda')\n",
    "model = resnet18.to(device) # 위에서 학습한 모델!\n",
    "model.eval()\n",
    "\n",
    "# 모델이 테스트 데이터셋을 예측하고 결과를 저장합니다.\n",
    "all_predictions = []\n",
    "for images in loader:\n",
    "    with torch.no_grad():\n",
    "        images = images.to(device)\n",
    "        pred = model(images)\n",
    "        pred = pred.argmax(dim=-1)\n",
    "        all_predictions.extend(pred.cpu().numpy())\n",
    "submission['ans'] = all_predictions\n",
    "\n",
    "# 제출할 파일을 저장합니다.\n",
    "submission.to_csv(os.path.join(test_dir, 'submission.csv'), index=False)\n",
    "print('test inference is done!')"
   ]
  },
  {
   "cell_type": "code",
   "execution_count": null,
   "id": "477e14b6-0146-4ff9-91f2-861c81a7b758",
   "metadata": {},
   "outputs": [],
   "source": []
  }
 ],
 "metadata": {
  "kernelspec": {
   "display_name": "Python 3 (ipykernel)",
   "language": "python",
   "name": "python3"
  },
  "language_info": {
   "codemirror_mode": {
    "name": "ipython",
    "version": 3
   },
   "file_extension": ".py",
   "mimetype": "text/x-python",
   "name": "python",
   "nbconvert_exporter": "python",
   "pygments_lexer": "ipython3",
   "version": "3.8.5"
  }
 },
 "nbformat": 4,
 "nbformat_minor": 5
}
